{
 "cells": [
  {
   "cell_type": "code",
   "execution_count": 6,
   "metadata": {},
   "outputs": [],
   "source": [
    "# Add Matplotlib inline magic command\n",
    "%matplotlib inline\n",
    "# Dependencies and Setup\n",
    "import pandas as pd, matplotlib.pyplot as plt, numpy as np"
   ]
  },
  {
   "cell_type": "code",
   "execution_count": 5,
   "metadata": {},
   "outputs": [],
   "source": [
    "city_data_to_load = \"./Resources/city_data.csv\"\n",
    "ride_data_to_load = \"./Resources/ride_data.csv\""
   ]
  },
  {
   "cell_type": "code",
   "execution_count": 16,
   "metadata": {},
   "outputs": [
    {
     "output_type": "execute_result",
     "data": {
      "text/plain": "            city  driver_count   type\n0    Richardfort            38  Urban\n1   Williamsstad            59  Urban\n2    Port Angela            67  Urban\n3     Rodneyfort            34  Urban\n4    West Robert            39  Urban\n5   West Anthony            70  Urban\n6    West Angela            48  Urban\n7  Martinezhaven            25  Urban\n8      Karenberg            22  Urban\n9    Barajasview            26  Urban",
      "text/html": "<div>\n<style scoped>\n    .dataframe tbody tr th:only-of-type {\n        vertical-align: middle;\n    }\n\n    .dataframe tbody tr th {\n        vertical-align: top;\n    }\n\n    .dataframe thead th {\n        text-align: right;\n    }\n</style>\n<table border=\"1\" class=\"dataframe\">\n  <thead>\n    <tr style=\"text-align: right;\">\n      <th></th>\n      <th>city</th>\n      <th>driver_count</th>\n      <th>type</th>\n    </tr>\n  </thead>\n  <tbody>\n    <tr>\n      <th>0</th>\n      <td>Richardfort</td>\n      <td>38</td>\n      <td>Urban</td>\n    </tr>\n    <tr>\n      <th>1</th>\n      <td>Williamsstad</td>\n      <td>59</td>\n      <td>Urban</td>\n    </tr>\n    <tr>\n      <th>2</th>\n      <td>Port Angela</td>\n      <td>67</td>\n      <td>Urban</td>\n    </tr>\n    <tr>\n      <th>3</th>\n      <td>Rodneyfort</td>\n      <td>34</td>\n      <td>Urban</td>\n    </tr>\n    <tr>\n      <th>4</th>\n      <td>West Robert</td>\n      <td>39</td>\n      <td>Urban</td>\n    </tr>\n    <tr>\n      <th>5</th>\n      <td>West Anthony</td>\n      <td>70</td>\n      <td>Urban</td>\n    </tr>\n    <tr>\n      <th>6</th>\n      <td>West Angela</td>\n      <td>48</td>\n      <td>Urban</td>\n    </tr>\n    <tr>\n      <th>7</th>\n      <td>Martinezhaven</td>\n      <td>25</td>\n      <td>Urban</td>\n    </tr>\n    <tr>\n      <th>8</th>\n      <td>Karenberg</td>\n      <td>22</td>\n      <td>Urban</td>\n    </tr>\n    <tr>\n      <th>9</th>\n      <td>Barajasview</td>\n      <td>26</td>\n      <td>Urban</td>\n    </tr>\n  </tbody>\n</table>\n</div>"
     },
     "metadata": {},
     "execution_count": 16
    }
   ],
   "source": [
    "city_data_df = pd.read_csv(city_data_to_load)\n",
    "\n",
    "city_data_df.head(10)\n"
   ]
  },
  {
   "cell_type": "code",
   "execution_count": 29,
   "metadata": {},
   "outputs": [
    {
     "output_type": "execute_result",
     "data": {
      "text/plain": "                 city                 date   fare        ride_id\n0  Lake Jonathanshire  2019-01-14 10:14:22  13.83  5739410935873\n1  South Michelleport  2019-03-04 18:24:09  30.24  2343912425577\n2  Port Samanthamouth  2019-02-24 04:29:00  33.44  2005065760003\n3          Rodneyfort  2019-02-10 23:22:03  23.44  5149245426178\n4          South Jack  2019-03-06 04:28:35  34.58  3908451377344",
      "text/html": "<div>\n<style scoped>\n    .dataframe tbody tr th:only-of-type {\n        vertical-align: middle;\n    }\n\n    .dataframe tbody tr th {\n        vertical-align: top;\n    }\n\n    .dataframe thead th {\n        text-align: right;\n    }\n</style>\n<table border=\"1\" class=\"dataframe\">\n  <thead>\n    <tr style=\"text-align: right;\">\n      <th></th>\n      <th>city</th>\n      <th>date</th>\n      <th>fare</th>\n      <th>ride_id</th>\n    </tr>\n  </thead>\n  <tbody>\n    <tr>\n      <th>0</th>\n      <td>Lake Jonathanshire</td>\n      <td>2019-01-14 10:14:22</td>\n      <td>13.83</td>\n      <td>5739410935873</td>\n    </tr>\n    <tr>\n      <th>1</th>\n      <td>South Michelleport</td>\n      <td>2019-03-04 18:24:09</td>\n      <td>30.24</td>\n      <td>2343912425577</td>\n    </tr>\n    <tr>\n      <th>2</th>\n      <td>Port Samanthamouth</td>\n      <td>2019-02-24 04:29:00</td>\n      <td>33.44</td>\n      <td>2005065760003</td>\n    </tr>\n    <tr>\n      <th>3</th>\n      <td>Rodneyfort</td>\n      <td>2019-02-10 23:22:03</td>\n      <td>23.44</td>\n      <td>5149245426178</td>\n    </tr>\n    <tr>\n      <th>4</th>\n      <td>South Jack</td>\n      <td>2019-03-06 04:28:35</td>\n      <td>34.58</td>\n      <td>3908451377344</td>\n    </tr>\n  </tbody>\n</table>\n</div>"
     },
     "metadata": {},
     "execution_count": 29
    }
   ],
   "source": [
    "ride_data_df = pd.read_csv(ride_data_to_load)\n",
    "ride_data_df.head()"
   ]
  },
  {
   "cell_type": "code",
   "execution_count": 31,
   "metadata": {},
   "outputs": [
    {
     "output_type": "execute_result",
     "data": {
      "text/plain": "city            0\ndriver_count    0\ntype            0\ndtype: int64"
     },
     "metadata": {},
     "execution_count": 31
    }
   ],
   "source": [
    "# Get the columns and the rows that are not null.\n",
    "city_data_df.count()\n",
    "# Get the columns and the rows that are not null.\n",
    "city_data_df.isnull().sum()"
   ]
  },
  {
   "cell_type": "code",
   "execution_count": 32,
   "metadata": {},
   "outputs": [
    {
     "output_type": "execute_result",
     "data": {
      "text/plain": "city            object\ndriver_count     int64\ntype            object\ndtype: object"
     },
     "metadata": {},
     "execution_count": 32
    }
   ],
   "source": [
    "# Get the data types of each column.\n",
    "city_data_df.dtypes"
   ]
  },
  {
   "cell_type": "code",
   "execution_count": 33,
   "metadata": {},
   "outputs": [
    {
     "output_type": "execute_result",
     "data": {
      "text/plain": "array(['Urban', 'Suburban', 'Rural'], dtype=object)"
     },
     "metadata": {},
     "execution_count": 33
    }
   ],
   "source": [
    "# Get the unique values of the type of city.\n",
    "city_data_df[\"type\"].unique()"
   ]
  },
  {
   "cell_type": "code",
   "execution_count": 35,
   "metadata": {},
   "outputs": [
    {
     "output_type": "execute_result",
     "data": {
      "text/plain": "18"
     },
     "metadata": {},
     "execution_count": 35
    }
   ],
   "source": [
    "# Get the number of data points from the Urban cities.\n",
    "sum(city_data_df[\"type\"]==\"Rural\")\n"
   ]
  },
  {
   "cell_type": "code",
   "execution_count": 36,
   "metadata": {},
   "outputs": [
    {
     "output_type": "execute_result",
     "data": {
      "text/plain": "city       2375\ndate       2375\nfare       2375\nride_id    2375\ndtype: int64"
     },
     "metadata": {},
     "execution_count": 36
    }
   ],
   "source": [
    "# Get the columns and the rows that are not null.\n",
    "ride_data_df.count()"
   ]
  },
  {
   "cell_type": "code",
   "execution_count": 39,
   "metadata": {},
   "outputs": [
    {
     "output_type": "execute_result",
     "data": {
      "text/plain": "city       0\ndate       0\nfare       0\nride_id    0\ndtype: int64"
     },
     "metadata": {},
     "execution_count": 39
    }
   ],
   "source": [
    "# Get the columns and the rows that are not null.\n",
    "ride_data_df.isnull().sum()"
   ]
  },
  {
   "cell_type": "code",
   "execution_count": 40,
   "metadata": {},
   "outputs": [
    {
     "output_type": "execute_result",
     "data": {
      "text/plain": "city        object\ndate        object\nfare       float64\nride_id      int64\ndtype: object"
     },
     "metadata": {},
     "execution_count": 40
    }
   ],
   "source": [
    "# Get the data types of each column.\n",
    "ride_data_df.dtypes"
   ]
  },
  {
   "cell_type": "code",
   "execution_count": 49,
   "metadata": {},
   "outputs": [
    {
     "output_type": "execute_result",
     "data": {
      "text/plain": "                   city                 date   fare        ride_id  \\\n0    Lake Jonathanshire  2019-01-14 10:14:22  13.83  5739410935873   \n1    South Michelleport  2019-03-04 18:24:09  30.24  2343912425577   \n2    Port Samanthamouth  2019-02-24 04:29:00  33.44  2005065760003   \n3            Rodneyfort  2019-02-10 23:22:03  23.44  5149245426178   \n4            South Jack  2019-03-06 04:28:35  34.58  3908451377344   \n5          South Latoya  2019-03-11 12:26:48   9.52  1994999424437   \n6         New Paulville  2019-02-27 11:17:56  43.25   793208410091   \n7          Simpsonburgh  2019-04-26 00:43:24  35.98   111953927754   \n8       South Karenland  2019-01-08 03:28:48  35.09  7995623208694   \n9         North Jasmine  2019-03-09 06:26:29  42.81  5327642267789   \n10  New Kimberlyborough  2019-02-07 01:10:11   9.34  7992781920789   \n11          West Angela  2019-01-12 01:45:27  26.86  4820052223501   \n12           Rodneyfort  2019-03-02 18:03:20  44.26  2494064867705   \n13          West Angela  2019-01-10 12:17:31  12.74  2108723916092   \n14          Roberthaven  2019-05-04 14:48:56  25.66  1026197778354   \n15          North Jason  2019-03-28 22:28:44   9.19  7007022521141   \n16         Williamsview  2019-01-03 16:19:25  18.93  1979492913169   \n17              Leahton  2019-02-26 18:42:15   8.85  6966668662612   \n18         West Anthony  2019-03-06 02:27:01  10.02  9396763280782   \n19  New Kimberlyborough  2019-04-25 22:58:38  29.67  4823568522144   \n\n    driver_count   type  \n0              5  Urban  \n1             72  Urban  \n2             57  Urban  \n3             34  Urban  \n4             46  Urban  \n5             10  Urban  \n6             44  Urban  \n7             21  Urban  \n8              4  Urban  \n9             33  Urban  \n10            33  Urban  \n11            48  Urban  \n12            34  Urban  \n13            48  Urban  \n14            47  Urban  \n15             6  Urban  \n16            46  Urban  \n17            17  Urban  \n18            70  Urban  \n19            33  Urban  ",
      "text/html": "<div>\n<style scoped>\n    .dataframe tbody tr th:only-of-type {\n        vertical-align: middle;\n    }\n\n    .dataframe tbody tr th {\n        vertical-align: top;\n    }\n\n    .dataframe thead th {\n        text-align: right;\n    }\n</style>\n<table border=\"1\" class=\"dataframe\">\n  <thead>\n    <tr style=\"text-align: right;\">\n      <th></th>\n      <th>city</th>\n      <th>date</th>\n      <th>fare</th>\n      <th>ride_id</th>\n      <th>driver_count</th>\n      <th>type</th>\n    </tr>\n  </thead>\n  <tbody>\n    <tr>\n      <th>0</th>\n      <td>Lake Jonathanshire</td>\n      <td>2019-01-14 10:14:22</td>\n      <td>13.83</td>\n      <td>5739410935873</td>\n      <td>5</td>\n      <td>Urban</td>\n    </tr>\n    <tr>\n      <th>1</th>\n      <td>South Michelleport</td>\n      <td>2019-03-04 18:24:09</td>\n      <td>30.24</td>\n      <td>2343912425577</td>\n      <td>72</td>\n      <td>Urban</td>\n    </tr>\n    <tr>\n      <th>2</th>\n      <td>Port Samanthamouth</td>\n      <td>2019-02-24 04:29:00</td>\n      <td>33.44</td>\n      <td>2005065760003</td>\n      <td>57</td>\n      <td>Urban</td>\n    </tr>\n    <tr>\n      <th>3</th>\n      <td>Rodneyfort</td>\n      <td>2019-02-10 23:22:03</td>\n      <td>23.44</td>\n      <td>5149245426178</td>\n      <td>34</td>\n      <td>Urban</td>\n    </tr>\n    <tr>\n      <th>4</th>\n      <td>South Jack</td>\n      <td>2019-03-06 04:28:35</td>\n      <td>34.58</td>\n      <td>3908451377344</td>\n      <td>46</td>\n      <td>Urban</td>\n    </tr>\n    <tr>\n      <th>5</th>\n      <td>South Latoya</td>\n      <td>2019-03-11 12:26:48</td>\n      <td>9.52</td>\n      <td>1994999424437</td>\n      <td>10</td>\n      <td>Urban</td>\n    </tr>\n    <tr>\n      <th>6</th>\n      <td>New Paulville</td>\n      <td>2019-02-27 11:17:56</td>\n      <td>43.25</td>\n      <td>793208410091</td>\n      <td>44</td>\n      <td>Urban</td>\n    </tr>\n    <tr>\n      <th>7</th>\n      <td>Simpsonburgh</td>\n      <td>2019-04-26 00:43:24</td>\n      <td>35.98</td>\n      <td>111953927754</td>\n      <td>21</td>\n      <td>Urban</td>\n    </tr>\n    <tr>\n      <th>8</th>\n      <td>South Karenland</td>\n      <td>2019-01-08 03:28:48</td>\n      <td>35.09</td>\n      <td>7995623208694</td>\n      <td>4</td>\n      <td>Urban</td>\n    </tr>\n    <tr>\n      <th>9</th>\n      <td>North Jasmine</td>\n      <td>2019-03-09 06:26:29</td>\n      <td>42.81</td>\n      <td>5327642267789</td>\n      <td>33</td>\n      <td>Urban</td>\n    </tr>\n    <tr>\n      <th>10</th>\n      <td>New Kimberlyborough</td>\n      <td>2019-02-07 01:10:11</td>\n      <td>9.34</td>\n      <td>7992781920789</td>\n      <td>33</td>\n      <td>Urban</td>\n    </tr>\n    <tr>\n      <th>11</th>\n      <td>West Angela</td>\n      <td>2019-01-12 01:45:27</td>\n      <td>26.86</td>\n      <td>4820052223501</td>\n      <td>48</td>\n      <td>Urban</td>\n    </tr>\n    <tr>\n      <th>12</th>\n      <td>Rodneyfort</td>\n      <td>2019-03-02 18:03:20</td>\n      <td>44.26</td>\n      <td>2494064867705</td>\n      <td>34</td>\n      <td>Urban</td>\n    </tr>\n    <tr>\n      <th>13</th>\n      <td>West Angela</td>\n      <td>2019-01-10 12:17:31</td>\n      <td>12.74</td>\n      <td>2108723916092</td>\n      <td>48</td>\n      <td>Urban</td>\n    </tr>\n    <tr>\n      <th>14</th>\n      <td>Roberthaven</td>\n      <td>2019-05-04 14:48:56</td>\n      <td>25.66</td>\n      <td>1026197778354</td>\n      <td>47</td>\n      <td>Urban</td>\n    </tr>\n    <tr>\n      <th>15</th>\n      <td>North Jason</td>\n      <td>2019-03-28 22:28:44</td>\n      <td>9.19</td>\n      <td>7007022521141</td>\n      <td>6</td>\n      <td>Urban</td>\n    </tr>\n    <tr>\n      <th>16</th>\n      <td>Williamsview</td>\n      <td>2019-01-03 16:19:25</td>\n      <td>18.93</td>\n      <td>1979492913169</td>\n      <td>46</td>\n      <td>Urban</td>\n    </tr>\n    <tr>\n      <th>17</th>\n      <td>Leahton</td>\n      <td>2019-02-26 18:42:15</td>\n      <td>8.85</td>\n      <td>6966668662612</td>\n      <td>17</td>\n      <td>Urban</td>\n    </tr>\n    <tr>\n      <th>18</th>\n      <td>West Anthony</td>\n      <td>2019-03-06 02:27:01</td>\n      <td>10.02</td>\n      <td>9396763280782</td>\n      <td>70</td>\n      <td>Urban</td>\n    </tr>\n    <tr>\n      <th>19</th>\n      <td>New Kimberlyborough</td>\n      <td>2019-04-25 22:58:38</td>\n      <td>29.67</td>\n      <td>4823568522144</td>\n      <td>33</td>\n      <td>Urban</td>\n    </tr>\n  </tbody>\n</table>\n</div>"
     },
     "metadata": {},
     "execution_count": 49
    }
   ],
   "source": [
    "merged_data_df = pd.merge(ride_data_df, city_data_df, how=\"left\", on=[\"city\", \"city\"])\n",
    "merged_data_df.head(20)"
   ]
  }
 ],
 "metadata": {
  "language_info": {
   "codemirror_mode": {
    "name": "ipython",
    "version": 3
   },
   "file_extension": ".py",
   "mimetype": "text/x-python",
   "name": "python",
   "nbconvert_exporter": "python",
   "pygments_lexer": "ipython3",
   "version": 3
  },
  "orig_nbformat": 2,
  "kernelspec": {
   "name": "python_defaultSpec_1593640746876",
   "display_name": "Python 3.7.7 64-bit"
  }
 },
 "nbformat": 4,
 "nbformat_minor": 2
}